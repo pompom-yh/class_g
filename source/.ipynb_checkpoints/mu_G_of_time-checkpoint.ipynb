{
 "cells": [
  {
   "cell_type": "code",
   "execution_count": 14,
   "metadata": {},
   "outputs": [],
   "source": [
    "import numpy as np\n",
    "import matplotlib.pyplot as plt"
   ]
  },
  {
   "cell_type": "code",
   "execution_count": 15,
   "metadata": {},
   "outputs": [],
   "source": [
    "mu0=1\n"
   ]
  },
  {
   "cell_type": "code",
   "execution_count": 41,
   "metadata": {},
   "outputs": [],
   "source": [
    "def mu(a,a_T=0.001,mu_inf=1.02,delta_T=0.1):\n",
    "    \n",
    "    #N_T=np.log(a_T)\n",
    "    N_T=-3.4\n",
    "    N=np.log(a)\n",
    "    x=(N-N_T)/delta_T\n",
    "    f=(mu0+mu_inf)/2+(mu0-mu_inf)/2*x/np.sqrt(1+x**2)\n",
    "    return f\n",
    "\n",
    "def z(a):\n",
    "    z=1.0/a-a\n",
    "    return z\n",
    "def a_scale(z):\n",
    "    a=1.0/(1+z)\n",
    "    return a"
   ]
  },
  {
   "cell_type": "code",
   "execution_count": 44,
   "metadata": {},
   "outputs": [
    {
     "data": {
      "text/plain": [
       "array([1.01999954, 1.01999953, 1.01999951, 1.0199995 , 1.01999949,\n",
       "       1.01999947, 1.01999946, 1.01999944, 1.01999942, 1.0199994 ,\n",
       "       1.01999939, 1.01999937, 1.01999935, 1.01999932, 1.0199993 ,\n",
       "       1.01999928, 1.01999925, 1.01999923, 1.0199992 , 1.01999917,\n",
       "       1.01999914, 1.01999911, 1.01999907, 1.01999904, 1.019999  ,\n",
       "       1.01999896, 1.01999891, 1.01999887, 1.01999882, 1.01999877,\n",
       "       1.01999871, 1.01999865, 1.01999859, 1.01999852, 1.01999845,\n",
       "       1.01999837, 1.01999828, 1.01999819, 1.01999809, 1.01999798,\n",
       "       1.01999786, 1.01999773, 1.01999759, 1.01999744, 1.01999727,\n",
       "       1.01999708, 1.01999687, 1.01999664, 1.01999638, 1.0199961 ,\n",
       "       1.01999577, 1.01999541, 1.01999499, 1.01999452, 1.01999398,\n",
       "       1.01999335, 1.01999262, 1.01999176, 1.01999074, 1.01998952,\n",
       "       1.01998804, 1.01998622, 1.01998396, 1.01998109, 1.01997738,\n",
       "       1.01997246, 1.01996575, 1.01995626, 1.0199422 , 1.01992014,\n",
       "       1.01988264, 1.01981128, 1.01964981, 1.01915993, 1.01663847,\n",
       "       1.00547194, 1.00114743, 1.00043003, 1.00021945, 1.00013215,\n",
       "       1.00008806, 1.0000628 , 1.00004701, 1.0000365 , 1.00002915,\n",
       "       1.00002382, 1.00001982, 1.00001675, 1.00001435, 1.00001242,\n",
       "       1.00001086, 1.00000957, 1.0000085 , 1.0000076 , 1.00000684,\n",
       "       1.00000619, 1.00000562, 1.00000513, 1.0000047 , 1.00000432])"
      ]
     },
     "execution_count": 44,
     "metadata": {},
     "output_type": "execute_result"
    }
   ],
   "source": [
    "#z=np.linspace(0,)\n",
    "a=np.logspace(-6, 0,num=100,base=10)\n",
    "mu(a)"
   ]
  },
  {
   "cell_type": "code",
   "execution_count": 45,
   "metadata": {},
   "outputs": [
    {
     "data": {
      "text/plain": [
       "<matplotlib.lines.Line2D at 0x112357e10>"
      ]
     },
     "execution_count": 45,
     "metadata": {},
     "output_type": "execute_result"
    },
    {
     "data": {
      "image/png": "[encoded data removed]",
      "text/plain": [
       "<Figure size 432x288 with 1 Axes>"
      ]
     },
     "metadata": {
      "needs_background": "light"
     },
     "output_type": "display_data"
    }
   ],
   "source": [
    "plt.loglog(a,mu(a))\n",
    "#plt.xlim([0.001,1])\n",
    "plt.axhline(y=1,color='green')"
   ]
  },
  {
   "cell_type": "code",
   "execution_count": 47,
   "metadata": {},
   "outputs": [
    {
     "data": {
      "text/plain": [
       "0.0009082652134423251"
      ]
     },
     "execution_count": 47,
     "metadata": {},
     "output_type": "execute_result"
    }
   ],
   "source": [
    " #  z=0.21, at low z (say z <10), G should be not more than G_Newton+uncertainty\n",
    "# note 1402.1534 \"Constraining a possible variation of G with Type Ia supernovae\": \"We set an upper limit on its rate of change\n",
    "#|˙G/G| of 0.1 parts per billion per year over 9 Gyrs\"\n",
    "# note also recombination at z~1100 at time 379,000 years\n",
    "# z~5, T=1Gyr\n",
    "\n",
    "## 1305.0055 Planck2013+WMAP+BAO: integrated change delta G/G since recombination~0.01\n",
    "\n",
    "a_scale(1100) # a at recom"
   ]
  },
  {
   "cell_type": "code",
   "execution_count": 20,
   "metadata": {},
   "outputs": [
    {
     "data": {
      "text/plain": [
       "1.018492183369205"
      ]
     },
     "execution_count": 20,
     "metadata": {},
     "output_type": "execute_result"
    }
   ],
   "source": [
    "mu(a_scale(5))"
   ]
  },
  {
   "cell_type": "code",
   "execution_count": 40,
   "metadata": {},
   "outputs": [
    {
     "data": {
      "text/plain": [
       "2.2474266964325844e-05"
      ]
     },
     "execution_count": 40,
     "metadata": {},
     "output_type": "execute_result"
    }
   ],
   "source": [
    "#uncertainty of G0:\n",
    "0.00015/6.67430"
   ]
  },
  {
   "cell_type": "code",
   "execution_count": 29,
   "metadata": {},
   "outputs": [
    {
     "data": {
      "text/plain": [
       "array([ 0.99503719,  0.99460932,  0.99412381,  0.99356986,  0.99293402,\n",
       "        0.9921994 ,  0.99134451,  0.99034175,  0.98915513,  0.98773712,\n",
       "        0.98602388,  0.98392816,  0.98132828,  0.97805064,  0.97384121,\n",
       "        0.96831709,  0.96088146,  0.95056729,  0.93573623,  0.91346878,\n",
       "        0.87826824,  0.81923192,  0.71421284,  0.52215386,  0.19996001,\n",
       "       -0.19996001, -0.52215386, -0.71421284, -0.81923192, -0.87826824,\n",
       "       -0.91346878, -0.93573623, -0.95056729, -0.96088146, -0.96831709,\n",
       "       -0.97384121, -0.97805064, -0.98132828, -0.98392816, -0.98602388,\n",
       "       -0.98773712, -0.98915513, -0.99034175, -0.99134451, -0.9921994 ,\n",
       "       -0.99293402, -0.99356986, -0.99412381, -0.99460932, -0.99503719])"
      ]
     },
     "execution_count": 29,
     "metadata": {},
     "output_type": "execute_result"
    }
   ],
   "source": [
    "-x/np.sqrt(1+x**2)"
   ]
  },
  {
   "cell_type": "code",
   "execution_count": 48,
   "metadata": {},
   "outputs": [
    {
     "data": {
      "text/plain": [
       "6.407308799999999e-11"
      ]
     },
     "execution_count": 48,
     "metadata": {},
     "output_type": "execute_result"
    }
   ],
   "source": [
    "6.67428e-11*0.96\n",
    "\n"
   ]
  },
  {
   "cell_type": "code",
   "execution_count": 51,
   "metadata": {},
   "outputs": [
    {
     "data": {
      "text/plain": [
       "6.9412512e-11"
      ]
     },
     "execution_count": 51,
     "metadata": {},
     "output_type": "execute_result"
    }
   ],
   "source": [
    "6.67428e-11*1.04"
   ]
  },
  {
   "cell_type": "code",
   "execution_count": null,
   "metadata": {},
   "outputs": [],
   "source": []
  }
 ],
 "metadata": {
  "kernelspec": {
   "display_name": "Python 3",
   "language": "python",
   "name": "python3"
  },
  "language_info": {
   "codemirror_mode": {
    "name": "ipython",
    "version": 3
   },
   "file_extension": ".py",
   "mimetype": "text/x-python",
   "name": "python",
   "nbconvert_exporter": "python",
   "pygments_lexer": "ipython3",
   "version": "3.7.3"
  }
 },
 "nbformat": 4,
 "nbformat_minor": 2
}
