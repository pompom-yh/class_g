{
 "cells": [
  {
   "cell_type": "code",
   "execution_count": 2,
   "metadata": {},
   "outputs": [],
   "source": [
    "import numpy as np\n",
    "import matplotlib.pyplot as plt"
   ]
  },
  {
   "cell_type": "code",
   "execution_count": 3,
   "metadata": {},
   "outputs": [],
   "source": [
    "mu0=1\n"
   ]
  },
  {
   "cell_type": "code",
   "execution_count": 4,
   "metadata": {},
   "outputs": [],
   "source": [
    "# mu is defined as (Graviational constant at scale factor a)/(Graviational constant at a=1)\n",
    "# set it to be a step function, with stop at a=a_T, width of step delta_T\n",
    "def mu(a,a_T=0.001,mu_inf=1.1,delta_T=0.5):\n",
    "    \n",
    "    N_T=np.log(a_T)\n",
    "    N=np.log(a)\n",
    "    x=(N-N_T)/delta_T\n",
    "    f=(mu0+mu_inf)/2+(mu0-mu_inf)/2*x/np.sqrt(1+x**2)\n",
    "    return f\n",
    "\n",
    "# convert scale factor a to reshift z\n",
    "def z(a):\n",
    "    z=1.0/a-a\n",
    "    return z\n",
    "\n",
    "# convert reshift to scale factor\n",
    "def a_scale(z):\n",
    "    a=1.0/(1+z)\n",
    "    return a"
   ]
  },
  {
   "cell_type": "code",
   "execution_count": 7,
   "metadata": {},
   "outputs": [
    {
     "data": {
      "text/plain": [
       "Text(0, 0.5, 'mu')"
      ]
     },
     "execution_count": 7,
     "metadata": {},
     "output_type": "execute_result"
    },
    {
     "data": {
      "image/png": "[encoded data removed]",
      "text/plain": [
       "<Figure size 432x288 with 1 Axes>"
      ]
     },
     "metadata": {
      "needs_background": "light"
     },
     "output_type": "display_data"
    }
   ],
   "source": [
    "# take a look at shape of mu\n",
    "a=np.logspace(-6, 0,num=100,base=10)\n",
    "plt.loglog(a,mu(a))\n",
    "plt.xlabel('scale factor a')\n",
    "plt.ylabel('mu')"
   ]
  },
  {
   "cell_type": "code",
   "execution_count": null,
   "metadata": {},
   "outputs": [],
   "source": []
  }
 ],
 "metadata": {
  "kernelspec": {
   "display_name": "Python 3",
   "language": "python",
   "name": "python3"
  },
  "language_info": {
   "codemirror_mode": {
    "name": "ipython",
    "version": 3
   },
   "file_extension": ".py",
   "mimetype": "text/x-python",
   "name": "python",
   "nbconvert_exporter": "python",
   "pygments_lexer": "ipython3",
   "version": "3.7.3"
  }
 },
 "nbformat": 4,
 "nbformat_minor": 2
}
