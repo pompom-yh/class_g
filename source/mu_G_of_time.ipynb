{
 "cells": [
  {
   "cell_type": "code",
   "execution_count": 1,
   "metadata": {},
   "outputs": [],
   "source": [
    "import numpy as np\n",
    "import matplotlib.pyplot as plt"
   ]
  },
  {
   "cell_type": "code",
   "execution_count": 2,
   "metadata": {},
   "outputs": [],
   "source": [
    "mu0=1\n"
   ]
  },
  {
   "cell_type": "code",
   "execution_count": 6,
   "metadata": {},
   "outputs": [],
   "source": [
    "def mu(a,a_T=0.001,mu_inf=1.1,delta_T=0.5):\n",
    "    \n",
    "    N_T=np.log(a_T)\n",
    "    #N_T=-3.4\n",
    "    N=np.log(a)\n",
    "    x=(N-N_T)/delta_T\n",
    "    f=(mu0+mu_inf)/2+(mu0-mu_inf)/2*x/np.sqrt(1+x**2)\n",
    "    return f\n",
    "\n",
    "def z(a):\n",
    "    z=1.0/a-a\n",
    "    return z\n",
    "def a_scale(z):\n",
    "    a=1.0/(1+z)\n",
    "    return a"
   ]
  },
  {
   "cell_type": "code",
   "execution_count": 7,
   "metadata": {},
   "outputs": [
    {
     "data": {
      "text/plain": [
       "array([1.09986953, 1.09986412, 1.09985836, 1.09985223, 1.0998457 ,\n",
       "       1.09983872, 1.09983125, 1.09982326, 1.09981469, 1.09980548,\n",
       "       1.09979557, 1.09978488, 1.09977333, 1.09976083, 1.09974727,\n",
       "       1.09973253, 1.09971646, 1.0996989 , 1.09967966, 1.09965853,\n",
       "       1.09963525, 1.0996095 , 1.09958095, 1.09954916, 1.09951363,\n",
       "       1.09947376, 1.0994288 , 1.09937786, 1.09931985, 1.09925339,\n",
       "       1.09917678, 1.09908786, 1.09898389, 1.09886129, 1.09871542,\n",
       "       1.09854008, 1.09832693, 1.0980645 , 1.09773677, 1.09732085,\n",
       "       1.0967833 , 1.09607405, 1.09511614, 1.09378822, 1.09189456,\n",
       "       1.08911572, 1.08493899, 1.07861125, 1.06930876, 1.05691057,\n",
       "       1.04308943, 1.03069124, 1.02138875, 1.01506101, 1.01088428,\n",
       "       1.00810544, 1.00621178, 1.00488386, 1.00392595, 1.0032167 ,\n",
       "       1.00267915, 1.00226323, 1.0019355 , 1.00167307, 1.00145992,\n",
       "       1.00128458, 1.00113871, 1.00101611, 1.00091214, 1.00082322,\n",
       "       1.00074661, 1.00068015, 1.00062214, 1.0005712 , 1.00052624,\n",
       "       1.00048637, 1.00045084, 1.00041905, 1.0003905 , 1.00036475,\n",
       "       1.00034147, 1.00032034, 1.0003011 , 1.00028354, 1.00026747,\n",
       "       1.00025273, 1.00023917, 1.00022667, 1.00021512, 1.00020443,\n",
       "       1.00019452, 1.00018531, 1.00017674, 1.00016875, 1.00016128,\n",
       "       1.0001543 , 1.00014777, 1.00014164, 1.00013588, 1.00013047])"
      ]
     },
     "execution_count": 7,
     "metadata": {},
     "output_type": "execute_result"
    }
   ],
   "source": [
    "#z=np.linspace(0,)\n",
    "a=np.logspace(-6, 0,num=100,base=10)\n",
    "mu(a)"
   ]
  },
  {
   "cell_type": "code",
   "execution_count": 8,
   "metadata": {},
   "outputs": [
    {
     "data": {
      "text/plain": [
       "<matplotlib.lines.Line2D at 0x1197f4ba8>"
      ]
     },
     "execution_count": 8,
     "metadata": {},
     "output_type": "execute_result"
    },
    {
     "data": {
      "image/png": "[encoded data removed]",
      "text/plain": [
       "<Figure size 432x288 with 1 Axes>"
      ]
     },
     "metadata": {
      "needs_background": "light"
     },
     "output_type": "display_data"
    }
   ],
   "source": [
    "plt.loglog(a,mu(a))\n",
    "#plt.xlim([0.001,1])\n",
    "plt.axhline(y=1,color='green')"
   ]
  },
  {
   "cell_type": "code",
   "execution_count": 15,
   "metadata": {},
   "outputs": [
    {
     "data": {
      "text/plain": [
       "0.0009082652134423251"
      ]
     },
     "execution_count": 15,
     "metadata": {},
     "output_type": "execute_result"
    }
   ],
   "source": [
    " #  z=0.21, at low z (say z <10), G should be not more than G_Newton+uncertainty\n",
    "# note 1402.1534 \"Constraining a possible variation of G with Type Ia supernovae\": \"We set an upper limit on its rate of change\n",
    "#|˙G/G| of 0.1 parts per billion per year over 9 Gyrs\"\n",
    "# note also recombination at z~1100 at time 379,000 years\n",
    "# z~5, T=1Gyr\n",
    "\n",
    "## 1305.0055 Planck2013+WMAP+BAO: integrated change delta G/G since recombination~0.01\n",
    "\n",
    "a_scale(1100) # a at recom"
   ]
  },
  {
   "cell_type": "code",
   "execution_count": 17,
   "metadata": {},
   "outputs": [
    {
     "data": {
      "text/plain": [
       "1.0999529136730282"
      ]
     },
     "execution_count": 17,
     "metadata": {},
     "output_type": "execute_result"
    }
   ],
   "source": [
    "mu(a_scale(5))\n",
    "mu(1e-4)"
   ]
  },
  {
   "cell_type": "code",
   "execution_count": 40,
   "metadata": {},
   "outputs": [
    {
     "data": {
      "text/plain": [
       "2.2474266964325844e-05"
      ]
     },
     "execution_count": 40,
     "metadata": {},
     "output_type": "execute_result"
    }
   ],
   "source": [
    "#uncertainty of G0:\n",
    "0.00015/6.67430"
   ]
  },
  {
   "cell_type": "code",
   "execution_count": 29,
   "metadata": {},
   "outputs": [
    {
     "data": {
      "text/plain": [
       "array([ 0.99503719,  0.99460932,  0.99412381,  0.99356986,  0.99293402,\n",
       "        0.9921994 ,  0.99134451,  0.99034175,  0.98915513,  0.98773712,\n",
       "        0.98602388,  0.98392816,  0.98132828,  0.97805064,  0.97384121,\n",
       "        0.96831709,  0.96088146,  0.95056729,  0.93573623,  0.91346878,\n",
       "        0.87826824,  0.81923192,  0.71421284,  0.52215386,  0.19996001,\n",
       "       -0.19996001, -0.52215386, -0.71421284, -0.81923192, -0.87826824,\n",
       "       -0.91346878, -0.93573623, -0.95056729, -0.96088146, -0.96831709,\n",
       "       -0.97384121, -0.97805064, -0.98132828, -0.98392816, -0.98602388,\n",
       "       -0.98773712, -0.98915513, -0.99034175, -0.99134451, -0.9921994 ,\n",
       "       -0.99293402, -0.99356986, -0.99412381, -0.99460932, -0.99503719])"
      ]
     },
     "execution_count": 29,
     "metadata": {},
     "output_type": "execute_result"
    }
   ],
   "source": [
    "-x/np.sqrt(1+x**2)"
   ]
  },
  {
   "cell_type": "code",
   "execution_count": 48,
   "metadata": {},
   "outputs": [
    {
     "data": {
      "text/plain": [
       "6.407308799999999e-11"
      ]
     },
     "execution_count": 48,
     "metadata": {},
     "output_type": "execute_result"
    }
   ],
   "source": [
    "6.67428e-11*0.96\n",
    "\n"
   ]
  },
  {
   "cell_type": "code",
   "execution_count": 51,
   "metadata": {},
   "outputs": [
    {
     "data": {
      "text/plain": [
       "6.9412512e-11"
      ]
     },
     "execution_count": 51,
     "metadata": {},
     "output_type": "execute_result"
    }
   ],
   "source": [
    "6.67428e-11*1.04"
   ]
  },
  {
   "cell_type": "code",
   "execution_count": null,
   "metadata": {},
   "outputs": [],
   "source": []
  }
 ],
 "metadata": {
  "kernelspec": {
   "display_name": "Python 3",
   "language": "python",
   "name": "python3"
  },
  "language_info": {
   "codemirror_mode": {
    "name": "ipython",
    "version": 3
   },
   "file_extension": ".py",
   "mimetype": "text/x-python",
   "name": "python",
   "nbconvert_exporter": "python",
   "pygments_lexer": "ipython3",
   "version": "3.7.3"
  }
 },
 "nbformat": 4,
 "nbformat_minor": 2
}
