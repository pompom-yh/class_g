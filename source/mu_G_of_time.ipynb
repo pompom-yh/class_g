{
 "cells": [
  {
   "cell_type": "code",
   "execution_count": 1,
   "metadata": {},
   "outputs": [],
   "source": [
    "import numpy as np\n",
    "import matplotlib.pyplot as plt"
   ]
  },
  {
   "cell_type": "code",
   "execution_count": 2,
   "metadata": {},
   "outputs": [],
   "source": [
    "mu0=1\n"
   ]
  },
  {
   "cell_type": "code",
   "execution_count": 21,
   "metadata": {},
   "outputs": [],
   "source": [
    "def mu(a,a_T=1,mu_inf=1.1,delta_T=0.01):\n",
    "    \n",
    "    N_T=np.log(a_T)\n",
    "    #N_T=-3.4\n",
    "    N=np.log(a)\n",
    "    x=(N-N_T)/delta_T\n",
    "    f=(mu0+mu_inf)/2+(mu0-mu_inf)/2*x/np.sqrt(1+x**2)\n",
    "    return f\n",
    "\n",
    "def z(a):\n",
    "    z=1.0/a-a\n",
    "    return z\n",
    "def a_scale(z):\n",
    "    a=1.0/(1+z)\n",
    "    return a"
   ]
  },
  {
   "cell_type": "code",
   "execution_count": 22,
   "metadata": {},
   "outputs": [
    {
     "data": {
      "text/plain": [
       "array([1.09999999, 1.09999999, 1.09999999, 1.09999999, 1.09999999,\n",
       "       1.09999999, 1.09999999, 1.09999998, 1.09999998, 1.09999998,\n",
       "       1.09999998, 1.09999998, 1.09999998, 1.09999998, 1.09999998,\n",
       "       1.09999998, 1.09999998, 1.09999998, 1.09999998, 1.09999998,\n",
       "       1.09999998, 1.09999998, 1.09999998, 1.09999998, 1.09999998,\n",
       "       1.09999998, 1.09999998, 1.09999998, 1.09999997, 1.09999997,\n",
       "       1.09999997, 1.09999997, 1.09999997, 1.09999997, 1.09999997,\n",
       "       1.09999997, 1.09999997, 1.09999997, 1.09999997, 1.09999996,\n",
       "       1.09999996, 1.09999996, 1.09999996, 1.09999996, 1.09999996,\n",
       "       1.09999996, 1.09999995, 1.09999995, 1.09999995, 1.09999995,\n",
       "       1.09999995, 1.09999994, 1.09999994, 1.09999994, 1.09999994,\n",
       "       1.09999993, 1.09999993, 1.09999993, 1.09999992, 1.09999992,\n",
       "       1.09999992, 1.09999991, 1.09999991, 1.0999999 , 1.0999999 ,\n",
       "       1.09999989, 1.09999988, 1.09999987, 1.09999987, 1.09999986,\n",
       "       1.09999985, 1.09999984, 1.09999982, 1.09999981, 1.09999979,\n",
       "       1.09999978, 1.09999976, 1.09999973, 1.09999971, 1.09999968,\n",
       "       1.09999964, 1.0999996 , 1.09999956, 1.0999995 , 1.09999943,\n",
       "       1.09999935, 1.09999924, 1.09999911, 1.09999894, 1.09999872,\n",
       "       1.09999842, 1.09999799, 1.09999738, 1.09999643, 1.09999487,\n",
       "       1.09999198, 1.09998574, 1.09996794, 1.09987212, 1.05      ])"
      ]
     },
     "execution_count": 22,
     "metadata": {},
     "output_type": "execute_result"
    }
   ],
   "source": [
    "#z=np.linspace(0,)\n",
    "a=np.logspace(-6, 0,num=100,base=10)\n",
    "mu(a)"
   ]
  },
  {
   "cell_type": "code",
   "execution_count": 23,
   "metadata": {},
   "outputs": [
    {
     "data": {
      "text/plain": [
       "<matplotlib.lines.Line2D at 0x1147a2b00>"
      ]
     },
     "execution_count": 23,
     "metadata": {},
     "output_type": "execute_result"
    },
    {
     "data": {
      "image/png": "[encoded data removed]",
      "text/plain": [
       "<Figure size 432x288 with 1 Axes>"
      ]
     },
     "metadata": {
      "needs_background": "light"
     },
     "output_type": "display_data"
    }
   ],
   "source": [
    "plt.loglog(a,mu(a))\n",
    "#plt.xlim([0.001,1])\n",
    "plt.axhline(y=1,color='green')"
   ]
  },
  {
   "cell_type": "code",
   "execution_count": 15,
   "metadata": {},
   "outputs": [
    {
     "data": {
      "text/plain": [
       "0.0009082652134423251"
      ]
     },
     "execution_count": 15,
     "metadata": {},
     "output_type": "execute_result"
    }
   ],
   "source": [
    " #  z=0.21, at low z (say z <10), G should be not more than G_Newton+uncertainty\n",
    "# note 1402.1534 \"Constraining a possible variation of G with Type Ia supernovae\": \"We set an upper limit on its rate of change\n",
    "#|˙G/G| of 0.1 parts per billion per year over 9 Gyrs\"\n",
    "# note also recombination at z~1100 at time 379,000 years\n",
    "# z~5, T=1Gyr\n",
    "\n",
    "## 1305.0055 Planck2013+WMAP+BAO: integrated change delta G/G since recombination~0.01\n",
    "\n",
    "a_scale(1100) # a at recom"
   ]
  },
  {
   "cell_type": "code",
   "execution_count": 17,
   "metadata": {},
   "outputs": [
    {
     "data": {
      "text/plain": [
       "1.0999529136730282"
      ]
     },
     "execution_count": 17,
     "metadata": {},
     "output_type": "execute_result"
    }
   ],
   "source": [
    "mu(a_scale(5))\n",
    "mu(1e-4)"
   ]
  },
  {
   "cell_type": "code",
   "execution_count": 40,
   "metadata": {},
   "outputs": [
    {
     "data": {
      "text/plain": [
       "2.2474266964325844e-05"
      ]
     },
     "execution_count": 40,
     "metadata": {},
     "output_type": "execute_result"
    }
   ],
   "source": [
    "#uncertainty of G0:\n",
    "0.00015/6.67430"
   ]
  },
  {
   "cell_type": "code",
   "execution_count": 29,
   "metadata": {},
   "outputs": [
    {
     "data": {
      "text/plain": [
       "array([ 0.99503719,  0.99460932,  0.99412381,  0.99356986,  0.99293402,\n",
       "        0.9921994 ,  0.99134451,  0.99034175,  0.98915513,  0.98773712,\n",
       "        0.98602388,  0.98392816,  0.98132828,  0.97805064,  0.97384121,\n",
       "        0.96831709,  0.96088146,  0.95056729,  0.93573623,  0.91346878,\n",
       "        0.87826824,  0.81923192,  0.71421284,  0.52215386,  0.19996001,\n",
       "       -0.19996001, -0.52215386, -0.71421284, -0.81923192, -0.87826824,\n",
       "       -0.91346878, -0.93573623, -0.95056729, -0.96088146, -0.96831709,\n",
       "       -0.97384121, -0.97805064, -0.98132828, -0.98392816, -0.98602388,\n",
       "       -0.98773712, -0.98915513, -0.99034175, -0.99134451, -0.9921994 ,\n",
       "       -0.99293402, -0.99356986, -0.99412381, -0.99460932, -0.99503719])"
      ]
     },
     "execution_count": 29,
     "metadata": {},
     "output_type": "execute_result"
    }
   ],
   "source": [
    "-x/np.sqrt(1+x**2)"
   ]
  },
  {
   "cell_type": "code",
   "execution_count": 48,
   "metadata": {},
   "outputs": [
    {
     "data": {
      "text/plain": [
       "6.407308799999999e-11"
      ]
     },
     "execution_count": 48,
     "metadata": {},
     "output_type": "execute_result"
    }
   ],
   "source": [
    "6.67428e-11*0.96\n",
    "\n"
   ]
  },
  {
   "cell_type": "code",
   "execution_count": 51,
   "metadata": {},
   "outputs": [
    {
     "data": {
      "text/plain": [
       "6.9412512e-11"
      ]
     },
     "execution_count": 51,
     "metadata": {},
     "output_type": "execute_result"
    }
   ],
   "source": [
    "6.67428e-11*1.04"
   ]
  },
  {
   "cell_type": "code",
   "execution_count": null,
   "metadata": {},
   "outputs": [],
   "source": []
  }
 ],
 "metadata": {
  "kernelspec": {
   "display_name": "Python 3",
   "language": "python",
   "name": "python3"
  },
  "language_info": {
   "codemirror_mode": {
    "name": "ipython",
    "version": 3
   },
   "file_extension": ".py",
   "mimetype": "text/x-python",
   "name": "python",
   "nbconvert_exporter": "python",
   "pygments_lexer": "ipython3",
   "version": "3.7.3"
  }
 },
 "nbformat": 4,
 "nbformat_minor": 2
}
