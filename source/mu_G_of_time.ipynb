{
 "cells": [
  {
   "cell_type": "code",
   "execution_count": 1,
   "metadata": {},
   "outputs": [],
   "source": [
    "import numpy as np\n",
    "import matplotlib.pyplot as plt"
   ]
  },
  {
   "cell_type": "code",
   "execution_count": 2,
   "metadata": {},
   "outputs": [],
   "source": [
    "mu0=1\n"
   ]
  },
  {
   "cell_type": "code",
   "execution_count": 12,
   "metadata": {},
   "outputs": [],
   "source": [
    "def mu(a,a_T=1e-3,mu_inf=1.1,delta_T=0.1):\n",
    "    \n",
    "    N_T=np.log(a_T)\n",
    "    #N_T=-3.4\n",
    "    N=np.log(a)\n",
    "    x=(N-N_T)/delta_T\n",
    "    f=(mu0+mu_inf)/2+(mu0-mu_inf)/2*x/np.sqrt(1+x**2)\n",
    "    return f\n",
    "\n",
    "def z(a):\n",
    "    z=1.0/a-a\n",
    "    return z\n",
    "def a_scale(z):\n",
    "    a=1.0/(1+z)\n",
    "    return a"
   ]
  },
  {
   "cell_type": "code",
   "execution_count": 13,
   "metadata": {},
   "outputs": [
    {
     "data": {
      "text/plain": [
       "array([1.09999476, 1.09999454, 1.09999431, 1.09999406, 1.0999938 ,\n",
       "       1.09999352, 1.09999322, 1.09999289, 1.09999255, 1.09999218,\n",
       "       1.09999177, 1.09999134, 1.09999087, 1.09999037, 1.09998982,\n",
       "       1.09998922, 1.09998856, 1.09998785, 1.09998707, 1.09998621,\n",
       "       1.09998526, 1.0999842 , 1.09998303, 1.09998173, 1.09998027,\n",
       "       1.09997863, 1.09997677, 1.09997466, 1.09997225, 1.09996948,\n",
       "       1.09996627, 1.09996253, 1.09995813, 1.09995291, 1.09994665,\n",
       "       1.09993905, 1.09992971, 1.09991804, 1.09990321, 1.09988397,\n",
       "       1.09985836, 1.09982326, 1.09977333, 1.0996989 , 1.09958095,\n",
       "       1.09937786, 1.09898389, 1.0980645 , 1.09511614, 1.07861125,\n",
       "       1.02138875, 1.00488386, 1.0019355 , 1.00101611, 1.00062214,\n",
       "       1.00041905, 1.0003011 , 1.00022667, 1.00017674, 1.00014164,\n",
       "       1.00011603, 1.00009679, 1.00008196, 1.00007029, 1.00006095,\n",
       "       1.00005335, 1.00004709, 1.00004187, 1.00003747, 1.00003373,\n",
       "       1.00003052, 1.00002775, 1.00002534, 1.00002323, 1.00002137,\n",
       "       1.00001973, 1.00001827, 1.00001697, 1.0000158 , 1.00001474,\n",
       "       1.00001379, 1.00001293, 1.00001215, 1.00001144, 1.00001078,\n",
       "       1.00001018, 1.00000963, 1.00000913, 1.00000866, 1.00000823,\n",
       "       1.00000782, 1.00000745, 1.00000711, 1.00000678, 1.00000648,\n",
       "       1.0000062 , 1.00000594, 1.00000569, 1.00000546, 1.00000524])"
      ]
     },
     "execution_count": 13,
     "metadata": {},
     "output_type": "execute_result"
    }
   ],
   "source": [
    "#z=np.linspace(0,)\n",
    "a=np.logspace(-6, 0,num=100,base=10)\n",
    "mu(a)"
   ]
  },
  {
   "cell_type": "code",
   "execution_count": 14,
   "metadata": {},
   "outputs": [
    {
     "data": {
      "text/plain": [
       "<matplotlib.lines.Line2D at 0x1140fde48>"
      ]
     },
     "execution_count": 14,
     "metadata": {},
     "output_type": "execute_result"
    },
    {
     "data": {
      "image/png": "[encoded data removed]",
      "text/plain": [
       "<Figure size 432x288 with 1 Axes>"
      ]
     },
     "metadata": {
      "needs_background": "light"
     },
     "output_type": "display_data"
    }
   ],
   "source": [
    "plt.loglog(a,mu(a))\n",
    "#plt.xlim([0.001,1])\n",
    "plt.axhline(y=1,color='green')"
   ]
  },
  {
   "cell_type": "code",
   "execution_count": 15,
   "metadata": {},
   "outputs": [
    {
     "data": {
      "text/plain": [
       "0.0009082652134423251"
      ]
     },
     "execution_count": 15,
     "metadata": {},
     "output_type": "execute_result"
    }
   ],
   "source": [
    " #  z=0.21, at low z (say z <10), G should be not more than G_Newton+uncertainty\n",
    "# note 1402.1534 \"Constraining a possible variation of G with Type Ia supernovae\": \"We set an upper limit on its rate of change\n",
    "#|˙G/G| of 0.1 parts per billion per year over 9 Gyrs\"\n",
    "# note also recombination at z~1100 at time 379,000 years\n",
    "# z~5, T=1Gyr\n",
    "\n",
    "## 1305.0055 Planck2013+WMAP+BAO: integrated change delta G/G since recombination~0.01\n",
    "\n",
    "a_scale(1100) # a at recom"
   ]
  },
  {
   "cell_type": "code",
   "execution_count": 17,
   "metadata": {},
   "outputs": [
    {
     "data": {
      "text/plain": [
       "1.0999529136730282"
      ]
     },
     "execution_count": 17,
     "metadata": {},
     "output_type": "execute_result"
    }
   ],
   "source": [
    "mu(a_scale(5))\n",
    "mu(1e-4)"
   ]
  },
  {
   "cell_type": "code",
   "execution_count": 40,
   "metadata": {},
   "outputs": [
    {
     "data": {
      "text/plain": [
       "2.2474266964325844e-05"
      ]
     },
     "execution_count": 40,
     "metadata": {},
     "output_type": "execute_result"
    }
   ],
   "source": [
    "#uncertainty of G0:\n",
    "0.00015/6.67430"
   ]
  },
  {
   "cell_type": "code",
   "execution_count": 29,
   "metadata": {},
   "outputs": [
    {
     "data": {
      "text/plain": [
       "array([ 0.99503719,  0.99460932,  0.99412381,  0.99356986,  0.99293402,\n",
       "        0.9921994 ,  0.99134451,  0.99034175,  0.98915513,  0.98773712,\n",
       "        0.98602388,  0.98392816,  0.98132828,  0.97805064,  0.97384121,\n",
       "        0.96831709,  0.96088146,  0.95056729,  0.93573623,  0.91346878,\n",
       "        0.87826824,  0.81923192,  0.71421284,  0.52215386,  0.19996001,\n",
       "       -0.19996001, -0.52215386, -0.71421284, -0.81923192, -0.87826824,\n",
       "       -0.91346878, -0.93573623, -0.95056729, -0.96088146, -0.96831709,\n",
       "       -0.97384121, -0.97805064, -0.98132828, -0.98392816, -0.98602388,\n",
       "       -0.98773712, -0.98915513, -0.99034175, -0.99134451, -0.9921994 ,\n",
       "       -0.99293402, -0.99356986, -0.99412381, -0.99460932, -0.99503719])"
      ]
     },
     "execution_count": 29,
     "metadata": {},
     "output_type": "execute_result"
    }
   ],
   "source": [
    "-x/np.sqrt(1+x**2)"
   ]
  },
  {
   "cell_type": "code",
   "execution_count": 48,
   "metadata": {},
   "outputs": [
    {
     "data": {
      "text/plain": [
       "6.407308799999999e-11"
      ]
     },
     "execution_count": 48,
     "metadata": {},
     "output_type": "execute_result"
    }
   ],
   "source": [
    "6.67428e-11*0.96\n",
    "\n"
   ]
  },
  {
   "cell_type": "code",
   "execution_count": 51,
   "metadata": {},
   "outputs": [
    {
     "data": {
      "text/plain": [
       "6.9412512e-11"
      ]
     },
     "execution_count": 51,
     "metadata": {},
     "output_type": "execute_result"
    }
   ],
   "source": [
    "6.67428e-11*1.04"
   ]
  },
  {
   "cell_type": "code",
   "execution_count": null,
   "metadata": {},
   "outputs": [],
   "source": []
  }
 ],
 "metadata": {
  "kernelspec": {
   "display_name": "Python 3",
   "language": "python",
   "name": "python3"
  },
  "language_info": {
   "codemirror_mode": {
    "name": "ipython",
    "version": 3
   },
   "file_extension": ".py",
   "mimetype": "text/x-python",
   "name": "python",
   "nbconvert_exporter": "python",
   "pygments_lexer": "ipython3",
   "version": "3.7.3"
  }
 },
 "nbformat": 4,
 "nbformat_minor": 2
}
